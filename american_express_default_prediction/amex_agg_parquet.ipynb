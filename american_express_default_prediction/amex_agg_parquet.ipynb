{
 "cells": [
  {
   "cell_type": "markdown",
   "metadata": {},
   "source": [
    "### train, test 데이터셋 agg 처리 후 parquet로 저정하기"
   ]
  },
  {
   "cell_type": "code",
   "execution_count": 1,
   "metadata": {},
   "outputs": [],
   "source": [
    "import gc\n",
    "\n",
    "import pandas as pd"
   ]
  },
  {
   "cell_type": "code",
   "execution_count": 2,
   "metadata": {},
   "outputs": [
    {
     "data": {
      "text/plain": [
       "((5531451, 190), (458913, 2))"
      ]
     },
     "execution_count": 2,
     "metadata": {},
     "output_type": "execute_result"
    }
   ],
   "source": [
    "train = pd.read_parquet('./data/train.parquet')\n",
    "train_labels = pd.read_csv('./data/train_labels.csv')\n",
    "\n",
    "train.shape, train_labels.shape"
   ]
  },
  {
   "cell_type": "code",
   "execution_count": 3,
   "metadata": {},
   "outputs": [
    {
     "data": {
      "text/plain": [
       "(5531451, 191)"
      ]
     },
     "execution_count": 3,
     "metadata": {},
     "output_type": "execute_result"
    }
   ],
   "source": [
    "train = train.merge(train_labels, how='inner', on='customer_ID')\n",
    "del train_labels\n",
    "gc.collect()\n",
    "\n",
    "train.shape"
   ]
  },
  {
   "cell_type": "code",
   "execution_count": 4,
   "metadata": {},
   "outputs": [],
   "source": [
    "features = train.drop(['customer_ID', 'S_2', 'target'], axis=1).columns.to_list()\n",
    "categorical_features = [\n",
    "    'B_30', 'B_38', 'D_63', 'D_64', 'D_66', 'D_68',\n",
    "    'D_114', 'D_116', 'D_117', 'D_120', 'D_126'\n",
    "]\n",
    "num_features = [col for col in features if col not in categorical_features]"
   ]
  },
  {
   "cell_type": "code",
   "execution_count": 5,
   "metadata": {},
   "outputs": [
    {
     "data": {
      "text/plain": [
       "0"
      ]
     },
     "execution_count": 5,
     "metadata": {},
     "output_type": "execute_result"
    }
   ],
   "source": [
    "train_num_agg = train.groupby('customer_ID')[num_features].agg(['mean', 'std', 'min', 'max', 'last'])\n",
    "train_num_agg.columns = ['_'.join(x) for x in train_num_agg.columns]\n",
    "\n",
    "train_cat_agg = train.groupby('customer_ID')[categorical_features].agg(['count', 'last', 'nunique'])\n",
    "train_cat_agg.columns = ['_'.join(x) for x in train_cat_agg.columns]\n",
    "\n",
    "train_target = (train.groupby('customer_ID').tail(1).set_index('customer_ID', drop=True).sort_index()['target'])\n",
    "\n",
    "train = pd.concat([train_num_agg, train_cat_agg, train_target], axis=1)\n",
    "\n",
    "train.to_parquet('./data/test/train_agg.parquet', engine='pyarrow', compression='gzip')\n",
    "\n",
    "del train_num_agg, train_cat_agg, train_target\n",
    "gc.collect()"
   ]
  },
  {
   "cell_type": "code",
   "execution_count": 6,
   "metadata": {},
   "outputs": [
    {
     "data": {
      "text/plain": [
       "20"
      ]
     },
     "execution_count": 6,
     "metadata": {},
     "output_type": "execute_result"
    }
   ],
   "source": [
    "del train\n",
    "gc.collect()"
   ]
  },
  {
   "cell_type": "code",
   "execution_count": 7,
   "metadata": {},
   "outputs": [
    {
     "data": {
      "text/plain": [
       "(11363762, 190)"
      ]
     },
     "execution_count": 7,
     "metadata": {},
     "output_type": "execute_result"
    }
   ],
   "source": [
    "test = pd.read_parquet('./data/test.parquet')\n",
    "test.shape"
   ]
  },
  {
   "cell_type": "code",
   "execution_count": 8,
   "metadata": {},
   "outputs": [
    {
     "data": {
      "text/plain": [
       "0"
      ]
     },
     "execution_count": 8,
     "metadata": {},
     "output_type": "execute_result"
    }
   ],
   "source": [
    "test_num_agg = test.groupby('customer_ID')[num_features].agg(['mean', 'std', 'min', 'max', 'last'])\n",
    "test_num_agg.columns = ['_'.join(x) for x in test_num_agg.columns]\n",
    "\n",
    "test_cat_agg = test.groupby('customer_ID')[categorical_features].agg(['count', 'last', 'nunique'])\n",
    "test_cat_agg.columns = ['_'.join(x) for x in test_cat_agg.columns]\n",
    "\n",
    "test = pd.concat([test_num_agg, test_cat_agg], axis=1)\n",
    "\n",
    "test.to_parquet('./data/test/test_agg.parquet', engine='pyarrow', compression='gzip')\n",
    "\n",
    "del test_num_agg, test_cat_agg\n",
    "gc.collect()"
   ]
  },
  {
   "cell_type": "code",
   "execution_count": 9,
   "metadata": {},
   "outputs": [
    {
     "data": {
      "text/plain": [
       "20"
      ]
     },
     "execution_count": 9,
     "metadata": {},
     "output_type": "execute_result"
    }
   ],
   "source": [
    "del test\n",
    "gc.collect()"
   ]
  },
  {
   "cell_type": "code",
   "execution_count": null,
   "metadata": {},
   "outputs": [],
   "source": []
  }
 ],
 "metadata": {
  "kernelspec": {
   "display_name": "Python 3.8.5 ('base')",
   "language": "python",
   "name": "python3"
  },
  "language_info": {
   "codemirror_mode": {
    "name": "ipython",
    "version": 3
   },
   "file_extension": ".py",
   "mimetype": "text/x-python",
   "name": "python",
   "nbconvert_exporter": "python",
   "pygments_lexer": "ipython3",
   "version": "3.8.5"
  },
  "orig_nbformat": 4,
  "vscode": {
   "interpreter": {
    "hash": "bb22bed4442154fb3a19c63ce3e9993d02bf4fd0be5c23680b344f0e088c080f"
   }
  }
 },
 "nbformat": 4,
 "nbformat_minor": 2
}
