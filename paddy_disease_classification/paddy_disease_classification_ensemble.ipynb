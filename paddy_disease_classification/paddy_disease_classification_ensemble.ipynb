{
 "cells": [
  {
   "cell_type": "code",
   "execution_count": 1,
   "id": "03aab67c",
   "metadata": {
    "_cell_guid": "b1076dfc-b9ad-4769-8c92-a6c4dae69d19",
    "_uuid": "8f2839f25d086af736a60e9eeb907d3b93b6e0e5",
    "execution": {
     "iopub.execute_input": "2022-08-31T15:12:46.937448Z",
     "iopub.status.busy": "2022-08-31T15:12:46.936815Z",
     "iopub.status.idle": "2022-08-31T15:12:46.950877Z",
     "shell.execute_reply": "2022-08-31T15:12:46.949707Z"
    },
    "papermill": {
     "duration": 0.025921,
     "end_time": "2022-08-31T15:12:46.953633",
     "exception": false,
     "start_time": "2022-08-31T15:12:46.927712",
     "status": "completed"
    },
    "tags": []
   },
   "outputs": [],
   "source": [
    "import os\n",
    "import glob\n",
    "\n",
    "import numpy as np\n",
    "import pandas as pd"
   ]
  },
  {
   "cell_type": "code",
   "execution_count": 2,
   "id": "dc88341b",
   "metadata": {
    "execution": {
     "iopub.execute_input": "2022-08-31T15:12:46.965256Z",
     "iopub.status.busy": "2022-08-31T15:12:46.964838Z",
     "iopub.status.idle": "2022-08-31T15:12:46.985276Z",
     "shell.execute_reply": "2022-08-31T15:12:46.984123Z"
    },
    "papermill": {
     "duration": 0.028297,
     "end_time": "2022-08-31T15:12:46.987846",
     "exception": false,
     "start_time": "2022-08-31T15:12:46.959549",
     "status": "completed"
    },
    "tags": []
   },
   "outputs": [
    {
     "data": {
      "text/plain": [
       "['../input/fastai2-resnet101/fastai2_prediction.csv',\n",
       " '../input/vgg16/vgg16_predictions.csv']"
      ]
     },
     "execution_count": 2,
     "metadata": {},
     "output_type": "execute_result"
    }
   ],
   "source": [
    "pred_paths = sorted([x for x in glob.glob('../input/*/*_prediction*.csv')])\n",
    "pred_paths"
   ]
  },
  {
   "cell_type": "code",
   "execution_count": 3,
   "id": "4813b27d",
   "metadata": {
    "execution": {
     "iopub.execute_input": "2022-08-31T15:12:46.997671Z",
     "iopub.status.busy": "2022-08-31T15:12:46.997271Z",
     "iopub.status.idle": "2022-08-31T15:12:47.005714Z",
     "shell.execute_reply": "2022-08-31T15:12:47.004006Z"
    },
    "papermill": {
     "duration": 0.016482,
     "end_time": "2022-08-31T15:12:47.008435",
     "exception": false,
     "start_time": "2022-08-31T15:12:46.991953",
     "status": "completed"
    },
    "tags": []
   },
   "outputs": [
    {
     "data": {
      "text/plain": [
       "[0.98731, 0.94963]"
      ]
     },
     "execution_count": 3,
     "metadata": {},
     "output_type": "execute_result"
    }
   ],
   "source": [
    "weights = [0.98731, 0.94963]\n",
    "weights"
   ]
  },
  {
   "cell_type": "code",
   "execution_count": 4,
   "id": "96c7676b",
   "metadata": {
    "execution": {
     "iopub.execute_input": "2022-08-31T15:12:47.018557Z",
     "iopub.status.busy": "2022-08-31T15:12:47.017738Z",
     "iopub.status.idle": "2022-08-31T15:12:47.109175Z",
     "shell.execute_reply": "2022-08-31T15:12:47.107785Z"
    },
    "papermill": {
     "duration": 0.099531,
     "end_time": "2022-08-31T15:12:47.111839",
     "exception": false,
     "start_time": "2022-08-31T15:12:47.012308",
     "status": "completed"
    },
    "tags": []
   },
   "outputs": [
    {
     "data": {
      "text/plain": [
       "[        image_id  bacterial_leaf_blight  bacterial_leaf_streak  \\\n",
       " 0     200001.jpg           2.864758e-05           1.162965e-06   \n",
       " 1     200002.jpg           1.278784e-06           4.071217e-08   \n",
       " 2     200003.jpg           1.140360e-05           5.341411e-06   \n",
       " 3     200004.jpg           4.141745e-04           3.266747e-04   \n",
       " 4     200005.jpg           2.544002e-04           5.678924e-06   \n",
       " ...          ...                    ...                    ...   \n",
       " 3464  203465.jpg           1.433615e-07           1.588797e-06   \n",
       " 3465  203466.jpg           2.398059e-05           2.581897e-07   \n",
       " 3466  203467.jpg           8.803228e-07           1.477485e-07   \n",
       " 3467  203468.jpg           4.722792e-08           9.993249e-01   \n",
       " 3468  203469.jpg           2.698272e-10           2.878642e-13   \n",
       " \n",
       "       bacterial_panicle_blight         blast    brown_spot    dead_heart  \\\n",
       " 0                 2.744146e-06  7.535722e-07  1.351228e-04  1.414751e-05   \n",
       " 1                 2.363348e-07  6.783946e-05  1.426935e-04  6.415281e-06   \n",
       " 2                 2.163001e-05  9.541463e-01  8.231144e-04  1.307725e-05   \n",
       " 3                 3.312766e-06  9.761702e-01  5.258670e-04  5.926812e-06   \n",
       " 4                 1.220331e-04  9.976729e-01  4.544637e-05  2.692258e-04   \n",
       " ...                        ...           ...           ...           ...   \n",
       " 3464              5.760472e-06  8.429142e-07  1.020765e-06  9.999714e-01   \n",
       " 3465              5.715833e-08  9.096444e-04  8.321943e-07  1.712982e-07   \n",
       " 3466              6.937636e-07  3.175580e-06  7.876726e-07  5.401923e-07   \n",
       " 3467              1.011103e-06  2.694234e-05  2.209902e-06  3.370378e-07   \n",
       " 3468              4.490242e-09  1.257542e-10  1.567842e-09  9.999999e-01   \n",
       " \n",
       "       downy_mildew         hispa        normal        tungro  \n",
       " 0     2.809662e-05  9.993118e-01  4.619744e-04  1.553559e-05  \n",
       " 1     7.440414e-06  1.791169e-04  9.995654e-01  2.954946e-05  \n",
       " 2     3.647147e-02  3.010460e-03  5.494485e-03  2.751852e-06  \n",
       " 3     2.176520e-03  2.004849e-02  5.696600e-05  2.719941e-04  \n",
       " 4     9.051277e-05  8.329559e-05  1.421859e-03  3.475602e-05  \n",
       " ...            ...           ...           ...           ...  \n",
       " 3464  2.075415e-07  4.464271e-06  1.455970e-05  4.915097e-08  \n",
       " 3465  5.448506e-05  9.721158e-01  2.687169e-02  2.301575e-05  \n",
       " 3466  1.352819e-05  1.933324e-05  9.997546e-01  2.062698e-04  \n",
       " 3467  1.961571e-04  4.287769e-04  9.683505e-07  1.867831e-05  \n",
       " 3468  9.526396e-11  6.387635e-08  2.271156e-09  5.405181e-09  \n",
       " \n",
       " [3469 rows x 11 columns],\n",
       "         image_id  bacterial_leaf_blight  bacterial_leaf_streak  \\\n",
       " 0     200001.jpg           2.804656e-04           2.156569e-05   \n",
       " 1     200002.jpg           7.275133e-04           3.099937e-05   \n",
       " 2     200003.jpg           5.239583e-06           7.438160e-05   \n",
       " 3     200004.jpg           3.735336e-06           2.966484e-06   \n",
       " 4     200005.jpg           6.262926e-07           8.608399e-08   \n",
       " ...          ...                    ...                    ...   \n",
       " 3464  203465.jpg           1.220655e-12           1.368502e-10   \n",
       " 3465  203466.jpg           5.567539e-04           4.759549e-06   \n",
       " 3466  203467.jpg           1.837142e-07           2.121618e-10   \n",
       " 3467  203468.jpg           7.330664e-10           9.999982e-01   \n",
       " 3468  203469.jpg           1.197381e-07           6.447510e-08   \n",
       " \n",
       "       bacterial_panicle_blight         blast    brown_spot    dead_heart  \\\n",
       " 0                 1.107176e-05  4.707873e-05  3.883047e-04  4.716944e-04   \n",
       " 1                 2.538098e-06  5.322149e-04  1.520435e-02  8.871259e-04   \n",
       " 2                 9.986763e-08  8.052846e-01  5.038321e-02  7.889693e-06   \n",
       " 3                 9.005770e-08  9.995302e-01  1.080130e-04  1.362748e-05   \n",
       " 4                 1.297833e-06  9.999771e-01  1.276160e-05  5.814907e-09   \n",
       " ...                        ...           ...           ...           ...   \n",
       " 3464              4.225723e-07  1.327490e-09  4.392934e-11  9.999995e-01   \n",
       " 3465              4.416423e-05  1.117107e-05  7.281738e-04  1.201282e-05   \n",
       " 3466              8.085797e-11  6.003743e-08  8.567254e-08  1.068406e-07   \n",
       " 3467              4.136270e-11  1.155541e-06  5.643561e-10  7.917975e-08   \n",
       " 3468              2.943934e-06  3.539121e-08  8.749750e-06  9.998216e-01   \n",
       " \n",
       "       downy_mildew         hispa        normal        tungro  \n",
       " 0     6.498754e-05  9.303552e-01  6.521618e-04  6.770746e-02  \n",
       " 1     5.606181e-03  9.673866e-04  9.366170e-01  3.942470e-02  \n",
       " 2     1.442435e-01  8.498453e-07  7.903014e-08  1.997064e-07  \n",
       " 3     1.861092e-04  1.439682e-04  5.993472e-09  1.127261e-05  \n",
       " 4     6.641508e-06  8.490815e-07  4.483171e-10  5.567053e-07  \n",
       " ...            ...           ...           ...           ...  \n",
       " 3464  3.013064e-09  2.118511e-10  7.680902e-09  2.296029e-13  \n",
       " 3465  2.416002e-04  9.981650e-01  8.912150e-05  1.473283e-04  \n",
       " 3466  2.228166e-06  8.797165e-04  9.991174e-01  2.301510e-07  \n",
       " 3467  1.005274e-08  2.765800e-08  2.678134e-07  1.737096e-07  \n",
       " 3468  6.209210e-07  3.735345e-06  1.268041e-05  1.494716e-04  \n",
       " \n",
       " [3469 rows x 11 columns]]"
      ]
     },
     "execution_count": 4,
     "metadata": {},
     "output_type": "execute_result"
    }
   ],
   "source": [
    "dfs = [pd.read_csv(x) for x in pred_paths]\n",
    "dfs = [x.sort_values(by='image_id').reset_index(drop=True) for x in dfs]\n",
    "dfs"
   ]
  },
  {
   "cell_type": "code",
   "execution_count": 5,
   "id": "f10c6da9",
   "metadata": {
    "execution": {
     "iopub.execute_input": "2022-08-31T15:12:47.123399Z",
     "iopub.status.busy": "2022-08-31T15:12:47.122373Z",
     "iopub.status.idle": "2022-08-31T15:12:47.133313Z",
     "shell.execute_reply": "2022-08-31T15:12:47.132107Z"
    },
    "papermill": {
     "duration": 0.019787,
     "end_time": "2022-08-31T15:12:47.136161",
     "exception": false,
     "start_time": "2022-08-31T15:12:47.116374",
     "status": "completed"
    },
    "tags": []
   },
   "outputs": [
    {
     "data": {
      "text/plain": [
       "Index(['bacterial_leaf_blight', 'bacterial_leaf_streak',\n",
       "       'bacterial_panicle_blight', 'blast', 'brown_spot', 'dead_heart',\n",
       "       'downy_mildew', 'hispa', 'normal', 'tungro'],\n",
       "      dtype='object')"
      ]
     },
     "execution_count": 5,
     "metadata": {},
     "output_type": "execute_result"
    }
   ],
   "source": [
    "class_names = dfs[0].columns.drop('image_id')\n",
    "class_names"
   ]
  },
  {
   "cell_type": "code",
   "execution_count": 6,
   "id": "67dea8d2",
   "metadata": {
    "execution": {
     "iopub.execute_input": "2022-08-31T15:12:47.146480Z",
     "iopub.status.busy": "2022-08-31T15:12:47.146027Z",
     "iopub.status.idle": "2022-08-31T15:12:47.163599Z",
     "shell.execute_reply": "2022-08-31T15:12:47.162095Z"
    },
    "papermill": {
     "duration": 0.026247,
     "end_time": "2022-08-31T15:12:47.166673",
     "exception": false,
     "start_time": "2022-08-31T15:12:47.140426",
     "status": "completed"
    },
    "tags": []
   },
   "outputs": [],
   "source": [
    "for df in dfs:\n",
    "    df[class_names] = np.clip(df[class_names], 0, 1)"
   ]
  },
  {
   "cell_type": "code",
   "execution_count": 7,
   "id": "15014920",
   "metadata": {
    "execution": {
     "iopub.execute_input": "2022-08-31T15:12:47.177582Z",
     "iopub.status.busy": "2022-08-31T15:12:47.176642Z",
     "iopub.status.idle": "2022-08-31T15:12:47.212842Z",
     "shell.execute_reply": "2022-08-31T15:12:47.211349Z"
    },
    "papermill": {
     "duration": 0.044501,
     "end_time": "2022-08-31T15:12:47.215658",
     "exception": false,
     "start_time": "2022-08-31T15:12:47.171157",
     "status": "completed"
    },
    "tags": []
   },
   "outputs": [
    {
     "data": {
      "text/html": [
       "<div>\n",
       "<style scoped>\n",
       "    .dataframe tbody tr th:only-of-type {\n",
       "        vertical-align: middle;\n",
       "    }\n",
       "\n",
       "    .dataframe tbody tr th {\n",
       "        vertical-align: top;\n",
       "    }\n",
       "\n",
       "    .dataframe thead th {\n",
       "        text-align: right;\n",
       "    }\n",
       "</style>\n",
       "<table border=\"1\" class=\"dataframe\">\n",
       "  <thead>\n",
       "    <tr style=\"text-align: right;\">\n",
       "      <th></th>\n",
       "      <th>image_id</th>\n",
       "      <th>label</th>\n",
       "      <th>bacterial_leaf_blight</th>\n",
       "      <th>bacterial_leaf_streak</th>\n",
       "      <th>bacterial_panicle_blight</th>\n",
       "      <th>blast</th>\n",
       "      <th>brown_spot</th>\n",
       "      <th>dead_heart</th>\n",
       "      <th>downy_mildew</th>\n",
       "      <th>hispa</th>\n",
       "      <th>normal</th>\n",
       "      <th>tungro</th>\n",
       "    </tr>\n",
       "  </thead>\n",
       "  <tbody>\n",
       "    <tr>\n",
       "      <th>0</th>\n",
       "      <td>200001.jpg</td>\n",
       "      <td>NaN</td>\n",
       "      <td>0</td>\n",
       "      <td>0</td>\n",
       "      <td>0</td>\n",
       "      <td>0</td>\n",
       "      <td>0</td>\n",
       "      <td>0</td>\n",
       "      <td>0</td>\n",
       "      <td>0</td>\n",
       "      <td>0</td>\n",
       "      <td>0</td>\n",
       "    </tr>\n",
       "    <tr>\n",
       "      <th>1</th>\n",
       "      <td>200002.jpg</td>\n",
       "      <td>NaN</td>\n",
       "      <td>0</td>\n",
       "      <td>0</td>\n",
       "      <td>0</td>\n",
       "      <td>0</td>\n",
       "      <td>0</td>\n",
       "      <td>0</td>\n",
       "      <td>0</td>\n",
       "      <td>0</td>\n",
       "      <td>0</td>\n",
       "      <td>0</td>\n",
       "    </tr>\n",
       "    <tr>\n",
       "      <th>2</th>\n",
       "      <td>200003.jpg</td>\n",
       "      <td>NaN</td>\n",
       "      <td>0</td>\n",
       "      <td>0</td>\n",
       "      <td>0</td>\n",
       "      <td>0</td>\n",
       "      <td>0</td>\n",
       "      <td>0</td>\n",
       "      <td>0</td>\n",
       "      <td>0</td>\n",
       "      <td>0</td>\n",
       "      <td>0</td>\n",
       "    </tr>\n",
       "    <tr>\n",
       "      <th>3</th>\n",
       "      <td>200004.jpg</td>\n",
       "      <td>NaN</td>\n",
       "      <td>0</td>\n",
       "      <td>0</td>\n",
       "      <td>0</td>\n",
       "      <td>0</td>\n",
       "      <td>0</td>\n",
       "      <td>0</td>\n",
       "      <td>0</td>\n",
       "      <td>0</td>\n",
       "      <td>0</td>\n",
       "      <td>0</td>\n",
       "    </tr>\n",
       "    <tr>\n",
       "      <th>4</th>\n",
       "      <td>200005.jpg</td>\n",
       "      <td>NaN</td>\n",
       "      <td>0</td>\n",
       "      <td>0</td>\n",
       "      <td>0</td>\n",
       "      <td>0</td>\n",
       "      <td>0</td>\n",
       "      <td>0</td>\n",
       "      <td>0</td>\n",
       "      <td>0</td>\n",
       "      <td>0</td>\n",
       "      <td>0</td>\n",
       "    </tr>\n",
       "    <tr>\n",
       "      <th>...</th>\n",
       "      <td>...</td>\n",
       "      <td>...</td>\n",
       "      <td>...</td>\n",
       "      <td>...</td>\n",
       "      <td>...</td>\n",
       "      <td>...</td>\n",
       "      <td>...</td>\n",
       "      <td>...</td>\n",
       "      <td>...</td>\n",
       "      <td>...</td>\n",
       "      <td>...</td>\n",
       "      <td>...</td>\n",
       "    </tr>\n",
       "    <tr>\n",
       "      <th>3464</th>\n",
       "      <td>203465.jpg</td>\n",
       "      <td>NaN</td>\n",
       "      <td>0</td>\n",
       "      <td>0</td>\n",
       "      <td>0</td>\n",
       "      <td>0</td>\n",
       "      <td>0</td>\n",
       "      <td>0</td>\n",
       "      <td>0</td>\n",
       "      <td>0</td>\n",
       "      <td>0</td>\n",
       "      <td>0</td>\n",
       "    </tr>\n",
       "    <tr>\n",
       "      <th>3465</th>\n",
       "      <td>203466.jpg</td>\n",
       "      <td>NaN</td>\n",
       "      <td>0</td>\n",
       "      <td>0</td>\n",
       "      <td>0</td>\n",
       "      <td>0</td>\n",
       "      <td>0</td>\n",
       "      <td>0</td>\n",
       "      <td>0</td>\n",
       "      <td>0</td>\n",
       "      <td>0</td>\n",
       "      <td>0</td>\n",
       "    </tr>\n",
       "    <tr>\n",
       "      <th>3466</th>\n",
       "      <td>203467.jpg</td>\n",
       "      <td>NaN</td>\n",
       "      <td>0</td>\n",
       "      <td>0</td>\n",
       "      <td>0</td>\n",
       "      <td>0</td>\n",
       "      <td>0</td>\n",
       "      <td>0</td>\n",
       "      <td>0</td>\n",
       "      <td>0</td>\n",
       "      <td>0</td>\n",
       "      <td>0</td>\n",
       "    </tr>\n",
       "    <tr>\n",
       "      <th>3467</th>\n",
       "      <td>203468.jpg</td>\n",
       "      <td>NaN</td>\n",
       "      <td>0</td>\n",
       "      <td>0</td>\n",
       "      <td>0</td>\n",
       "      <td>0</td>\n",
       "      <td>0</td>\n",
       "      <td>0</td>\n",
       "      <td>0</td>\n",
       "      <td>0</td>\n",
       "      <td>0</td>\n",
       "      <td>0</td>\n",
       "    </tr>\n",
       "    <tr>\n",
       "      <th>3468</th>\n",
       "      <td>203469.jpg</td>\n",
       "      <td>NaN</td>\n",
       "      <td>0</td>\n",
       "      <td>0</td>\n",
       "      <td>0</td>\n",
       "      <td>0</td>\n",
       "      <td>0</td>\n",
       "      <td>0</td>\n",
       "      <td>0</td>\n",
       "      <td>0</td>\n",
       "      <td>0</td>\n",
       "      <td>0</td>\n",
       "    </tr>\n",
       "  </tbody>\n",
       "</table>\n",
       "<p>3469 rows × 12 columns</p>\n",
       "</div>"
      ],
      "text/plain": [
       "        image_id  label  bacterial_leaf_blight  bacterial_leaf_streak  \\\n",
       "0     200001.jpg    NaN                      0                      0   \n",
       "1     200002.jpg    NaN                      0                      0   \n",
       "2     200003.jpg    NaN                      0                      0   \n",
       "3     200004.jpg    NaN                      0                      0   \n",
       "4     200005.jpg    NaN                      0                      0   \n",
       "...          ...    ...                    ...                    ...   \n",
       "3464  203465.jpg    NaN                      0                      0   \n",
       "3465  203466.jpg    NaN                      0                      0   \n",
       "3466  203467.jpg    NaN                      0                      0   \n",
       "3467  203468.jpg    NaN                      0                      0   \n",
       "3468  203469.jpg    NaN                      0                      0   \n",
       "\n",
       "      bacterial_panicle_blight  blast  brown_spot  dead_heart  downy_mildew  \\\n",
       "0                            0      0           0           0             0   \n",
       "1                            0      0           0           0             0   \n",
       "2                            0      0           0           0             0   \n",
       "3                            0      0           0           0             0   \n",
       "4                            0      0           0           0             0   \n",
       "...                        ...    ...         ...         ...           ...   \n",
       "3464                         0      0           0           0             0   \n",
       "3465                         0      0           0           0             0   \n",
       "3466                         0      0           0           0             0   \n",
       "3467                         0      0           0           0             0   \n",
       "3468                         0      0           0           0             0   \n",
       "\n",
       "      hispa  normal  tungro  \n",
       "0         0       0       0  \n",
       "1         0       0       0  \n",
       "2         0       0       0  \n",
       "3         0       0       0  \n",
       "4         0       0       0  \n",
       "...     ...     ...     ...  \n",
       "3464      0       0       0  \n",
       "3465      0       0       0  \n",
       "3466      0       0       0  \n",
       "3467      0       0       0  \n",
       "3468      0       0       0  \n",
       "\n",
       "[3469 rows x 12 columns]"
      ]
     },
     "execution_count": 7,
     "metadata": {},
     "output_type": "execute_result"
    }
   ],
   "source": [
    "submit = pd.read_csv('../input/paddy-disease-classification/sample_submission.csv')\n",
    "submit[class_names] = 0\n",
    "submit.sort_values(by='image_id').reset_index(drop=True)"
   ]
  },
  {
   "cell_type": "code",
   "execution_count": 8,
   "id": "59e84448",
   "metadata": {
    "execution": {
     "iopub.execute_input": "2022-08-31T15:12:47.227575Z",
     "iopub.status.busy": "2022-08-31T15:12:47.226876Z",
     "iopub.status.idle": "2022-08-31T15:12:47.231257Z",
     "shell.execute_reply": "2022-08-31T15:12:47.230102Z"
    },
    "papermill": {
     "duration": 0.01333,
     "end_time": "2022-08-31T15:12:47.233726",
     "exception": false,
     "start_time": "2022-08-31T15:12:47.220396",
     "status": "completed"
    },
    "tags": []
   },
   "outputs": [],
   "source": [
    "# weighted average\n",
    "for df, weight in zip(dfs, weights):\n",
    "    submit[class_names] += (df[class_names] * weight)\n",
    "\n",
    "submit[class_names] /= np.sum(weights)"
   ]
  },
  {
   "cell_type": "code",
   "execution_count": 9,
   "id": "b575b0a3",
   "metadata": {
    "execution": {
     "iopub.execute_input": "2022-08-31T15:12:47.244636Z",
     "iopub.status.busy": "2022-08-31T15:12:47.244234Z",
     "iopub.status.idle": "2022-08-31T15:12:48.366910Z",
     "shell.execute_reply": "2022-08-31T15:12:48.365349Z"
    },
    "papermill": {
     "duration": 1.131784,
     "end_time": "2022-08-31T15:12:48.370132",
     "exception": false,
     "start_time": "2022-08-31T15:12:47.238348",
     "status": "completed"
    },
    "tags": []
   },
   "outputs": [],
   "source": [
    "# rank average\n",
    "from scipy.stats import rankdata\n",
    "\n",
    "ranking_weights = rankdata(weights)\n",
    "ranking_weights /= np.sum(ranking_weights)\n",
    "\n",
    "for df, weight in zip(dfs, ranking_weights):\n",
    "    submit[class_names] += (df[class_names] * weight)"
   ]
  },
  {
   "cell_type": "code",
   "execution_count": 10,
   "id": "50b0e9bf",
   "metadata": {
    "execution": {
     "iopub.execute_input": "2022-08-31T15:12:48.381137Z",
     "iopub.status.busy": "2022-08-31T15:12:48.380660Z",
     "iopub.status.idle": "2022-08-31T15:12:48.401146Z",
     "shell.execute_reply": "2022-08-31T15:12:48.399733Z"
    },
    "papermill": {
     "duration": 0.029616,
     "end_time": "2022-08-31T15:12:48.404301",
     "exception": false,
     "start_time": "2022-08-31T15:12:48.374685",
     "status": "completed"
    },
    "tags": []
   },
   "outputs": [],
   "source": [
    "submit['label'] = class_names[np.argmax(np.array(submit[class_names]), axis=1)]\n",
    "\n",
    "submit[['image_id', 'label']].to_csv('submission.csv', index=False)"
   ]
  },
  {
   "cell_type": "code",
   "execution_count": null,
   "id": "faec1992",
   "metadata": {
    "papermill": {
     "duration": 0.004886,
     "end_time": "2022-08-31T15:12:48.413784",
     "exception": false,
     "start_time": "2022-08-31T15:12:48.408898",
     "status": "completed"
    },
    "tags": []
   },
   "outputs": [],
   "source": []
  }
 ],
 "metadata": {
  "kernelspec": {
   "display_name": "Python 3",
   "language": "python",
   "name": "python3"
  },
  "language_info": {
   "codemirror_mode": {
    "name": "ipython",
    "version": 3
   },
   "file_extension": ".py",
   "mimetype": "text/x-python",
   "name": "python",
   "nbconvert_exporter": "python",
   "pygments_lexer": "ipython3",
   "version": "3.7.12"
  },
  "papermill": {
   "default_parameters": {},
   "duration": 12.255989,
   "end_time": "2022-08-31T15:12:49.142659",
   "environment_variables": {},
   "exception": null,
   "input_path": "__notebook__.ipynb",
   "output_path": "__notebook__.ipynb",
   "parameters": {},
   "start_time": "2022-08-31T15:12:36.886670",
   "version": "2.3.4"
  }
 },
 "nbformat": 4,
 "nbformat_minor": 5
}
